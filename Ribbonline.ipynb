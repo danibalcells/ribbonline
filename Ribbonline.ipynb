{
 "cells": [
  {
   "cell_type": "code",
   "execution_count": 136,
   "metadata": {},
   "outputs": [],
   "source": [
    "import json\n",
    "import datetime\n",
    "import numpy as np\n",
    "import matplotlib.pyplot as plt\n",
    "import dateparser\n",
    "import TwitterSearch as tw\n",
    "# import emoji as emo\n",
    "\n",
    "with open('credentials.json', 'rt') as f: \n",
    "    credentials = json.load(fp=f)\n",
    "ts = tw.TwitterSearch(\n",
    "    consumer_key = credentials['api_key'],\n",
    "    consumer_secret = credentials['api_secret_key'],\n",
    "    access_token = credentials['access_token'],\n",
    "    access_token_secret = credentials['access_token_secret']\n",
    ")\n",
    "    \n",
    "EMOJI_RIBBON = '🎗'\n",
    "EMOJI_FLAG = '🇪🇸'"
   ]
  },
  {
   "cell_type": "code",
   "execution_count": 187,
   "metadata": {},
   "outputs": [],
   "source": [
    "def has_emoji(string, emoji):\n",
    "    return emoji in string\n",
    "\n",
    "\n",
    "class Tweet(object):\n",
    "\n",
    "    def __init__(self, raw_data):\n",
    "        # self.raw_data = raw_data\n",
    "        self.id = raw_data['id']\n",
    "        self.text = raw_data['text']\n",
    "        self.username = raw_data['user']['name']\n",
    "        self.user_description = raw_data['user']['description']\n",
    "        self.user_id = raw_data['user']['id']\n",
    "        # self.date = dateparser.parse(raw_data['created_at'].replace('+0000 ',''))\n",
    "    \n",
    "    @property\n",
    "    def text_has_ribbon(self):\n",
    "        return has_emoji(self.text, EMOJI_RIBBON)\n",
    "    \n",
    "    @property\n",
    "    def username_has_ribbon(self):\n",
    "        return has_emoji(self.username, EMOJI_RIBBON)\n",
    "    \n",
    "    @property\n",
    "    def user_description_has_ribbon(self):\n",
    "        return has_emoji(self.user_description, EMOJI_RIBBON)\n",
    "    \n",
    "    @property\n",
    "    def text_has_flag(self):\n",
    "        return has_emoji(self.text, EMOJI_FLAG)\n",
    "    \n",
    "    @property\n",
    "    def username_has_flag(self):\n",
    "        return has_emoji(self.username, EMOJI_FLAG)\n",
    "    \n",
    "    @property\n",
    "    def user_description_has_flag(self):\n",
    "        return has_emoji(self.user_description, EMOJI_FLAG)\n",
    "    \n",
    "    \n",
    "class TweetCollection(object):\n",
    "    \n",
    "    def __init__(self, tweets):\n",
    "        self.tweets = tweets\n",
    "    \n",
    "    def __add__(self, other):\n",
    "        if isinstance(other, TweetCollection):\n",
    "            return TweetCollection(self.tweets+other.tweets)\n",
    "        else:\n",
    "            raise ValueError(f'{other} is not a TweetCollection')\n",
    "    \n",
    "    def __getitem__(self, idx):\n",
    "        return self.tweets[idx]\n",
    "    \n",
    "    def __setitem__(self, idx, tweet):\n",
    "        if isinstance(tweet, Tweet):\n",
    "            self.tweets[idx] = tweet\n",
    "        else:\n",
    "            raise ValueError(f'{tweet} is not a Tweet')\n",
    "    \n",
    "    def append(self, tweet):\n",
    "        if isinstance(tweet, Tweet):\n",
    "            self.tweets.append(tweet)\n",
    "        else:\n",
    "            raise ValueError(f'{tweet} is not a Tweet')\n",
    "        \n",
    "    def filter_by_property(self, property_name):\n",
    "        return TweetCollection([t for t in self.tweets if t.__getattribute__(property_name)])\n",
    "    \n",
    "    @property\n",
    "    def length(self):\n",
    "        return len(self.tweets)\n",
    "    \n",
    "    @property\n",
    "    def text_has_ribbon(self):\n",
    "        return self.filter_by_property('text_has_ribbon')\n",
    "    \n",
    "    @property\n",
    "    def username_has_ribbon(self):\n",
    "        return self.filter_by_property('username_has_ribbon')\n",
    "    \n",
    "    @property\n",
    "    def user_description_has_ribbon(self):\n",
    "        return self.filter_by_property('user_description_has_ribbon')\n",
    "    \n",
    "    @property\n",
    "    def text_has_flag(self):\n",
    "        return self.filter_by_property('text_has_flag')\n",
    "    \n",
    "    @property\n",
    "    def username_has_flag(self):\n",
    "        return self.filter_by_property('username_has_flag')\n",
    "    \n",
    "    @property\n",
    "    def user_description_has_flag(self):\n",
    "        return self.filter_by_property('user_description_has_flag')\n",
    "\n",
    "\n",
    "class DailyOpinionSplit(object):\n",
    "    \n",
    "    def __init__(self, date, tweet_collection):\n",
    "        self.date = date\n",
    "        self.tweet_collection = tweet_collection\n",
    "        self.text_has_ribbon = self.tweet_collection.text_has_ribbon.length\n",
    "        self.username_has_ribbon = self.tweet_collection.username_has_ribbon.length\n",
    "        self.user_description_has_ribbon = self.tweet_collection.user_description_has_ribbon.length\n",
    "        self.text_has_flag = self.tweet_collection.text_has_flag.length\n",
    "        self.username_has_flag = self.tweet_collection.username_has_flag.length\n",
    "        self.user_description_has_flag = self.tweet_collection.user_description_has_flag.length\n",
    "        self.neutral = (self.tweet_collection.length - \n",
    "                        self.text_has_ribbon - \n",
    "                        self.username_has_ribbon -\n",
    "                        self.user_description_has_ribbon -\n",
    "                        self.text_has_flag -\n",
    "                        self.username_has_flag -\n",
    "                        self.user_description_has_flag)\n",
    "    \n",
    "    @property\n",
    "    def list(self):\n",
    "        return [\n",
    "            self.text_has_ribbon,\n",
    "            self.username_has_ribbon,\n",
    "            self.user_description_has_ribbon,\n",
    "            self.neutral,\n",
    "            self.user_description_has_flag,\n",
    "            self.username_has_flag,\n",
    "            self.text_has_flag,\n",
    "        ]"
   ]
  },
  {
   "cell_type": "code",
   "execution_count": 190,
   "metadata": {},
   "outputs": [],
   "source": [
    "since = datetime.date(2018,11,29)\n",
    "until = datetime.date(2018,11,30)\n",
    "tso = tw.TwitterSearchOrder()\n",
    "tso.set_keywords(['#Catalunya', '#Cataluña'], or_operator=True)\n",
    "tso.set_include_entities(False)\n",
    "tso.set_since(since)\n",
    "tso.set_until(until)"
   ]
  },
  {
   "cell_type": "code",
   "execution_count": 191,
   "metadata": {},
   "outputs": [],
   "source": [
    "tweets = TweetCollection([])\n",
    "for tweet_data in ts.search_tweets_iterable(tso):\n",
    "    tweets.append(Tweet(tweet_data))"
   ]
  },
  {
   "cell_type": "code",
   "execution_count": 194,
   "metadata": {
    "scrolled": true
   },
   "outputs": [
    {
     "data": {
      "text/plain": [
       "{<__main__.DailyOpinionSplit at 0x10adc2320>}"
      ]
     },
     "execution_count": 194,
     "metadata": {},
     "output_type": "execute_result"
    }
   ],
   "source": [
    "daily_opinion = DailyOpinionSplit(date=since, tweet_collection=tweets)\n",
    "daily_opinion"
   ]
  },
  {
   "cell_type": "markdown",
   "metadata": {},
   "source": [
    "# Stuff"
   ]
  },
  {
   "cell_type": "code",
   "execution_count": 166,
   "metadata": {
    "scrolled": true
   },
   "outputs": [],
   "source": [
    "tuo = tw.TwitterUserOrder('Miotroyo2parte') # create a TwitterUserOrder\n",
    "# start asking Twitter about the timeline\n",
    "for tweet_data in ts.search_tweets_iterable(tuo):\n",
    "    flagtweet = Tweet(tweet_data)\n",
    "    break"
   ]
  },
  {
   "cell_type": "code",
   "execution_count": 167,
   "metadata": {},
   "outputs": [
    {
     "data": {
      "text/plain": [
       "True"
      ]
     },
     "execution_count": 167,
     "metadata": {},
     "output_type": "execute_result"
    }
   ],
   "source": [
    "flagtweet.username_has_flag"
   ]
  },
  {
   "cell_type": "code",
   "execution_count": null,
   "metadata": {},
   "outputs": [],
   "source": []
  }
 ],
 "metadata": {
  "kernelspec": {
   "display_name": "Python 3",
   "language": "python",
   "name": "python3"
  },
  "language_info": {
   "codemirror_mode": {
    "name": "ipython",
    "version": 3
   },
   "file_extension": ".py",
   "mimetype": "text/x-python",
   "name": "python",
   "nbconvert_exporter": "python",
   "pygments_lexer": "ipython3",
   "version": "3.7.0"
  }
 },
 "nbformat": 4,
 "nbformat_minor": 2
}
