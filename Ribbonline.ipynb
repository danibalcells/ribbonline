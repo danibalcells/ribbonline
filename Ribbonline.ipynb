{
 "cells": [
  {
   "cell_type": "markdown",
   "metadata": {},
   "source": [
    "# Imports and definitions"
   ]
  },
  {
   "cell_type": "code",
   "execution_count": 562,
   "metadata": {},
   "outputs": [],
   "source": [
    "import logging\n",
    "logger = logging.getLogger()\n",
    "logger.setLevel(logging.INFO)\n",
    "logging.basicConfig(level=logging.INFO)\n",
    "\n",
    "from ribbonline.tweet import Tweet, TweetCollection\n",
    "from ribbonline.opinion import DailyOpinionSplit, OpinionTimeline, OpinionController\n",
    "from ribbonline.loader import TweetCSVLoader\n",
    "from ribbonline.clean import OnePerUserCleaner\n",
    "from ribbonline.plotter import TimelinePlotter\n",
    "\n",
    "%autoreload 2"
   ]
  },
  {
   "cell_type": "markdown",
   "metadata": {},
   "source": [
    "# Load data"
   ]
  },
  {
   "cell_type": "code",
   "execution_count": 586,
   "metadata": {
    "scrolled": true
   },
   "outputs": [
    {
     "name": "stderr",
     "output_type": "stream",
     "text": [
      "INFO:ribbonline.loader:Loading crawls/crawl_20181202163454_2018-06-03_2018-06-25_#catalunya_es/tweets.csv\n",
      "INFO:ribbonline.loader:Loading crawls/crawl_20181202051648_2017-08-12_2018-11-30_#catalunya_es/tweets.csv\n",
      "INFO:ribbonline.loader:Loading crawls/crawl_20181202163922_2018-06-03_2018-06-25_#catalunya_ca/tweets.csv\n",
      "INFO:ribbonline.loader:Loading crawls/crawl_20181202163525_2018-06-03_2018-06-25_#cataluña_es/tweets.csv\n",
      "INFO:ribbonline.loader:Loading crawls/crawl_20181202023202_2017-08-07_2018-11-30_#cataluña_es/tweets.csv\n",
      "INFO:ribbonline.loader:Loading crawls/crawl_20181202051527_2017-09-01_2018-11-30_#catalunya_ca/tweets.csv\n",
      "INFO:ribbonline.loader:Loading crawls/crawl_20181202023147_2017-08-07_2018-11-30_#cataluña_ca/tweets.csv\n",
      "INFO:ribbonline.loader:Loading crawls/crawl_20181202163742_2018-06-03_2018-06-25_#cataluña_ca/tweets.csv\n"
     ]
    }
   ],
   "source": [
    "paths = [\n",
    "    'crawls/crawl_20181202163454_2018-06-03_2018-06-25_#catalunya_es/tweets.csv',\n",
    "    'crawls/crawl_20181202051648_2017-08-12_2018-11-30_#catalunya_es/tweets.csv',\n",
    "    'crawls/crawl_20181202163922_2018-06-03_2018-06-25_#catalunya_ca/tweets.csv',\n",
    "    'crawls/crawl_20181202163525_2018-06-03_2018-06-25_#cataluña_es/tweets.csv',\n",
    "    'crawls/crawl_20181202023202_2017-08-07_2018-11-30_#cataluña_es/tweets.csv',\n",
    "    'crawls/crawl_20181202051527_2017-09-01_2018-11-30_#catalunya_ca/tweets.csv',\n",
    "    'crawls/crawl_20181202023147_2017-08-07_2018-11-30_#cataluña_ca/tweets.csv',\n",
    "    'crawls/crawl_20181202163742_2018-06-03_2018-06-25_#cataluña_ca/tweets.csv'\n",
    "]\n",
    "loader = TweetCSVLoader()\n",
    "tweets = loader.load_multiple(paths, one_in=5)"
   ]
  },
  {
   "cell_type": "markdown",
   "metadata": {},
   "source": [
    "# Limit to one tweet per user, day and category"
   ]
  },
  {
   "cell_type": "code",
   "execution_count": 587,
   "metadata": {},
   "outputs": [],
   "source": [
    "cleaner = OnePerUserCleaner(tweets)\n",
    "clean_tweets = cleaner.clean()"
   ]
  },
  {
   "cell_type": "markdown",
   "metadata": {},
   "source": [
    "# Create timeline"
   ]
  },
  {
   "cell_type": "code",
   "execution_count": 611,
   "metadata": {
    "scrolled": false
   },
   "outputs": [],
   "source": [
    "since = datetime.datetime(2017, 9, 1)\n",
    "until = datetime.datetime(2018, 11, 30)\n",
    "opinion_ctrl = OpinionController()\n",
    "timeline = opinion_ctrl.create_timeline(clean_tweets)\n",
    "sub_timeline = timeline.filter_by_dates(since, until)"
   ]
  },
  {
   "cell_type": "markdown",
   "metadata": {},
   "source": [
    "# Generate visualization"
   ]
  },
  {
   "cell_type": "code",
   "execution_count": 644,
   "metadata": {},
   "outputs": [],
   "source": [
    "plotter = TimelinePlotter(sub_timeline)\n",
    "plotter.plot()"
   ]
  },
  {
   "cell_type": "code",
   "execution_count": 645,
   "metadata": {},
   "outputs": [],
   "source": [
    "plotter.export_html()"
   ]
  },
  {
   "cell_type": "code",
   "execution_count": null,
   "metadata": {},
   "outputs": [],
   "source": []
  }
 ],
 "metadata": {
  "kernelspec": {
   "display_name": "Python 3",
   "language": "python",
   "name": "python3"
  },
  "language_info": {
   "codemirror_mode": {
    "name": "ipython",
    "version": 3
   },
   "file_extension": ".py",
   "mimetype": "text/x-python",
   "name": "python",
   "nbconvert_exporter": "python",
   "pygments_lexer": "ipython3",
   "version": "3.7.0"
  }
 },
 "nbformat": 4,
 "nbformat_minor": 2
}
